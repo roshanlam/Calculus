 "cell_type": "markdown",
      "source": [
        "\n",
        "## Differential Equations\n",
        "\n",
        "- A \"differential equation\" is an equation that just tells us the slope without specifying the original function whose derivative we are taking\n",
        "\n",
        "![alt text](http://hyperphysics.phy-astr.gsu.edu/hbase/Math/immath/derint.gif)\n",
        "\n",
        "![alt text](http://adit.io/imgs/derivatives/power_rule_examples.png)\n",
        "\n",
        "![alt text](https://images.slideplayer.com/37/10734112/slides/slide_6.jpg)\n",
        "\n",
        "![alt text](https://revisionworld.com/sites/revisionworld.com/files/imce/differential.gif)\n",
        "\n",
        "![alt text](https://internal.ncl.ac.uk/ask/numeracy-maths-statistics/images/Calculus.png)\n",
        "\n",
        "![alt text](https://www.mathsisfun.com/calculus/images/integrals-vs-derivative.svg )\n"
      ]
    }
